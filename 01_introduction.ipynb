{
  "nbformat": 4,
  "nbformat_minor": 0,
  "metadata": {
    "colab": {
      "provenance": [],
      "authorship_tag": "ABX9TyPjc1eUy8HVqhav4L+N6y0O",
      "include_colab_link": true
    },
    "kernelspec": {
      "name": "python3",
      "display_name": "Python 3"
    },
    "language_info": {
      "name": "python"
    }
  },
  "cells": [
    {
      "cell_type": "markdown",
      "metadata": {
        "id": "view-in-github",
        "colab_type": "text"
      },
      "source": [
        "<a href=\"https://colab.research.google.com/github/amhtj/ML-HSE/blob/main/01_introduction.ipynb\" target=\"_parent\"><img src=\"https://colab.research.google.com/assets/colab-badge.svg\" alt=\"Open In Colab\"/></a>"
      ]
    },
    {
      "cell_type": "markdown",
      "source": [
        "# Необходимые инструменты и библиотеки \n",
        "\n",
        "Для начала, конечно, необходимо установить сам Python на https://www.python.org/. \n",
        "Наиболее удобные и популярные инструменты для работы с задачами Data Science на Python: \n",
        "1. Jupyter Notebook (https://jupyter.org/). \n",
        "2. Google Colaboratory (https://colab.research.google.com/). \n",
        " \n",
        "Для работы с Jupyter Notebook лучше устанавливать его не отдельно, а путем установки дистрибутивом Anaconda: https://www.anaconda.com/. В таком случае автоматически поставится Jupyter Notebook, а также и Spyder (это IDE, но конкретно нам в дальнейшем не понадобится). В Anaconda встроены тысячи библиотек, и очень удобно для разных проектов создаются отдельные виртуальные среды. Библиотеки можно ставить как через командную строку Anaconda, так и через IDE (например, внутри PyCharm все это очень хорошо устроено).\n",
        "\n",
        "Для работы с Google Colaboratory не потребуется устанавливать совсем ничего. Все библиотеки уже установлены и работают (только онлайн с использованием интернета), а данные можно загружать или напрямую по ссылкам, или с облака в GDrive. Подключиться напрямую к папке с компьютера, как в Jyputer, не получится. \n",
        "\n",
        "В этом ноутбуке попробуем поработать с Google Colaboratory c библиотекой NumPy:\n",
        "\n"
      ],
      "metadata": {
        "id": "QjRiJjdAarh-"
      }
    },
    {
      "cell_type": "code",
      "execution_count": 2,
      "metadata": {
        "id": "-ONGsd_eWYip"
      },
      "outputs": [],
      "source": [
        "import numpy as np\n",
        "from numpy import *"
      ]
    },
    {
      "cell_type": "markdown",
      "source": [
        "**Основные операции над массивами**\n"
      ],
      "metadata": {
        "id": "qDA52xvGGJVM"
      }
    },
    {
      "cell_type": "markdown",
      "source": [
        "Одним из самых главных объектов в работе с библиотекой NumPy являются массивы. Они схожи со списками, однако элементы массива должны быть одинакового типа данных (имееется в виду float, int). Работать с большими данными в рамках массивов, конечно, много удобнее и эффективнее, чем со списками. "
      ],
      "metadata": {
        "id": "5MmLMcbO5Gfm"
      }
    },
    {
      "cell_type": "code",
      "source": [
        "# Создание массива из списка \n",
        "a = np.array([1, 4, 5, 8], float)\n",
        "a"
      ],
      "metadata": {
        "colab": {
          "base_uri": "https://localhost:8080/"
        },
        "id": "u_uyWzSwhNv2",
        "outputId": "7599b134-4a2a-45d7-f7f9-105b07030af0"
      },
      "execution_count": 3,
      "outputs": [
        {
          "output_type": "execute_result",
          "data": {
            "text/plain": [
              "array([1., 4., 5., 8.])"
            ]
          },
          "metadata": {},
          "execution_count": 3
        }
      ]
    },
    {
      "cell_type": "code",
      "source": [
        "# Ко всем элементам, конечно, можно получить доступ\n",
        "a[:2]"
      ],
      "metadata": {
        "colab": {
          "base_uri": "https://localhost:8080/"
        },
        "id": "tlAaboV_h7fS",
        "outputId": "c52d41e5-5a97-4e69-9a05-ff953b6d9bfb"
      },
      "execution_count": 6,
      "outputs": [
        {
          "output_type": "execute_result",
          "data": {
            "text/plain": [
              "array([1., 4.])"
            ]
          },
          "metadata": {},
          "execution_count": 6
        }
      ]
    },
    {
      "cell_type": "code",
      "source": [
        "# Многомерные массивы \n",
        "a = np.array([[1, 2, 3], [4,5,6]], float)\n",
        "a"
      ],
      "metadata": {
        "id": "vS9gb8eaiGhA"
      },
      "execution_count": 9,
      "outputs": []
    },
    {
      "cell_type": "code",
      "source": [
        "a[1:]"
      ],
      "metadata": {
        "colab": {
          "base_uri": "https://localhost:8080/"
        },
        "id": "NQp_OODriYlk",
        "outputId": "5e978c23-c1d8-467c-b8f4-f7c0b73b1486"
      },
      "execution_count": 12,
      "outputs": [
        {
          "output_type": "execute_result",
          "data": {
            "text/plain": [
              "array([[4., 5., 6.]])"
            ]
          },
          "metadata": {},
          "execution_count": 12
        }
      ]
    },
    {
      "cell_type": "code",
      "source": [
        "# Размеры строк и столбцов массива \n",
        "a.shape"
      ],
      "metadata": {
        "colab": {
          "base_uri": "https://localhost:8080/"
        },
        "id": "ynmH32cWigRd",
        "outputId": "58ccd8b4-56f0-40ad-af63-ea39149749fd"
      },
      "execution_count": 13,
      "outputs": [
        {
          "output_type": "execute_result",
          "data": {
            "text/plain": [
              "(2, 3)"
            ]
          },
          "metadata": {},
          "execution_count": 13
        }
      ]
    },
    {
      "cell_type": "code",
      "source": [
        "a.dtype"
      ],
      "metadata": {
        "colab": {
          "base_uri": "https://localhost:8080/"
        },
        "id": "3sFfP6-fiqPd",
        "outputId": "dc0cbfa0-515a-4019-e945-96df4718e56f"
      },
      "execution_count": 14,
      "outputs": [
        {
          "output_type": "execute_result",
          "data": {
            "text/plain": [
              "dtype('float64')"
            ]
          },
          "metadata": {},
          "execution_count": 14
        }
      ]
    },
    {
      "cell_type": "code",
      "source": [
        "# Длина первого измерения\n",
        "len(a)"
      ],
      "metadata": {
        "colab": {
          "base_uri": "https://localhost:8080/"
        },
        "id": "84m8nKVritB-",
        "outputId": "13fbbad7-a467-4526-92e5-1371f45b5901"
      },
      "execution_count": 15,
      "outputs": [
        {
          "output_type": "execute_result",
          "data": {
            "text/plain": [
              "2"
            ]
          },
          "metadata": {},
          "execution_count": 15
        }
      ]
    },
    {
      "cell_type": "code",
      "source": [
        "# Проверка наличия того или иного элемента в массиве \n",
        "2 in a"
      ],
      "metadata": {
        "colab": {
          "base_uri": "https://localhost:8080/"
        },
        "id": "GUJw92tmi0IT",
        "outputId": "1d672e5b-5c09-4d82-975d-6e043a92270e"
      },
      "execution_count": 17,
      "outputs": [
        {
          "output_type": "execute_result",
          "data": {
            "text/plain": [
              "False"
            ]
          },
          "metadata": {},
          "execution_count": 17
        }
      ]
    },
    {
      "cell_type": "code",
      "source": [
        "# Преобразование одномерного массива в двумерный (это создание нового массива, а не замена прежнего)\n",
        "a = np.array(range(10), float)\n",
        "a = a.reshape((5, 2))"
      ],
      "metadata": {
        "id": "-81RelO-jJ2I"
      },
      "execution_count": 18,
      "outputs": []
    },
    {
      "cell_type": "code",
      "source": [
        "a"
      ],
      "metadata": {
        "colab": {
          "base_uri": "https://localhost:8080/"
        },
        "id": "HoX2gQ4cjjZe",
        "outputId": "56476340-2c0e-4503-f6a9-6935ecc78e38"
      },
      "execution_count": 20,
      "outputs": [
        {
          "output_type": "execute_result",
          "data": {
            "text/plain": [
              "array([[0., 1.],\n",
              "       [2., 3.],\n",
              "       [4., 5.],\n",
              "       [6., 7.],\n",
              "       [8., 9.]])"
            ]
          },
          "metadata": {},
          "execution_count": 20
        }
      ]
    },
    {
      "cell_type": "code",
      "source": [
        "a = np.array([1,2,3], float)\n",
        "b = a \n",
        "c = a.copy() # можно копировать массив в памяти "
      ],
      "metadata": {
        "id": "HISHo-Nnj3Gy"
      },
      "execution_count": 22,
      "outputs": []
    },
    {
      "cell_type": "code",
      "source": [
        "a"
      ],
      "metadata": {
        "colab": {
          "base_uri": "https://localhost:8080/"
        },
        "id": "1upw-H29kFfl",
        "outputId": "f77f4cae-af9d-49f6-b3cb-f685757e917b"
      },
      "execution_count": 23,
      "outputs": [
        {
          "output_type": "execute_result",
          "data": {
            "text/plain": [
              "array([1., 2., 3.])"
            ]
          },
          "metadata": {},
          "execution_count": 23
        }
      ]
    },
    {
      "cell_type": "code",
      "source": [
        "b"
      ],
      "metadata": {
        "colab": {
          "base_uri": "https://localhost:8080/"
        },
        "id": "Lo7MrQUkkHtO",
        "outputId": "e59afb79-67b6-45ca-8ab6-a713355adfdd"
      },
      "execution_count": 24,
      "outputs": [
        {
          "output_type": "execute_result",
          "data": {
            "text/plain": [
              "array([1., 2., 3.])"
            ]
          },
          "metadata": {},
          "execution_count": 24
        }
      ]
    },
    {
      "cell_type": "code",
      "source": [
        "c"
      ],
      "metadata": {
        "colab": {
          "base_uri": "https://localhost:8080/"
        },
        "id": "K_OVL66gkIs8",
        "outputId": "335f9293-9b25-40cf-c6be-83df7517222e"
      },
      "execution_count": 25,
      "outputs": [
        {
          "output_type": "execute_result",
          "data": {
            "text/plain": [
              "array([1., 2., 3.])"
            ]
          },
          "metadata": {},
          "execution_count": 25
        }
      ]
    },
    {
      "cell_type": "code",
      "source": [
        "a = np.array([1,2,3], float) \n",
        "a.tolist()\n",
        "list(a) # Создание списка по массиву "
      ],
      "metadata": {
        "colab": {
          "base_uri": "https://localhost:8080/"
        },
        "id": "mI3cDhy7kJYD",
        "outputId": "6db33758-3341-4945-d49f-b1b5e4757d0a"
      },
      "execution_count": 26,
      "outputs": [
        {
          "output_type": "execute_result",
          "data": {
            "text/plain": [
              "[1.0, 2.0, 3.0]"
            ]
          },
          "metadata": {},
          "execution_count": 26
        }
      ]
    },
    {
      "cell_type": "code",
      "source": [
        "a.fill(1) # Можно заполнить весь список одинаковым значением \n",
        "a"
      ],
      "metadata": {
        "colab": {
          "base_uri": "https://localhost:8080/"
        },
        "id": "aZ0gs4KYkQkW",
        "outputId": "16698982-037d-4e97-8c02-bcd090a6e2ae"
      },
      "execution_count": 27,
      "outputs": [
        {
          "output_type": "execute_result",
          "data": {
            "text/plain": [
              "array([1., 1., 1.])"
            ]
          },
          "metadata": {},
          "execution_count": 27
        }
      ]
    },
    {
      "cell_type": "code",
      "source": [
        "# Транспонирование матриц (опять же с созданием новой матрицы)\n",
        "a = np.array(range(6), float).reshape((2,3))\n",
        "a\n",
        "a.transpose()"
      ],
      "metadata": {
        "colab": {
          "base_uri": "https://localhost:8080/"
        },
        "id": "h9Hn0JnVkdz0",
        "outputId": "e1d7efc2-9606-4178-a123-dfed535585d5"
      },
      "execution_count": 33,
      "outputs": [
        {
          "output_type": "execute_result",
          "data": {
            "text/plain": [
              "array([[0., 3.],\n",
              "       [1., 4.],\n",
              "       [2., 5.]])"
            ]
          },
          "metadata": {},
          "execution_count": 33
        }
      ]
    },
    {
      "cell_type": "code",
      "source": [
        "# Преобразование массива в одномерный \n",
        "a = np.array([[1,2,3], [4,5,6]], float)\n",
        "a\n",
        "a.flatten() "
      ],
      "metadata": {
        "colab": {
          "base_uri": "https://localhost:8080/"
        },
        "id": "fhP7Fs8GkzIo",
        "outputId": "b4237bba-735b-44f7-ab67-64a1fee7e974"
      },
      "execution_count": 36,
      "outputs": [
        {
          "output_type": "execute_result",
          "data": {
            "text/plain": [
              "array([1., 2., 3., 4., 5., 6.])"
            ]
          },
          "metadata": {},
          "execution_count": 36
        }
      ]
    },
    {
      "cell_type": "code",
      "source": [
        "# Конкатенация массивов (+ вариант с заданием оси при n-мерности массива)\n",
        "\n",
        "a = np.array([1,2], float)\n",
        "b = np.array([3,4,5,6], float)\n",
        "c = np.array([7,8,9], float)\n",
        "np.concatenate((a,b,c))"
      ],
      "metadata": {
        "colab": {
          "base_uri": "https://localhost:8080/"
        },
        "id": "JJ4wDs0plbcm",
        "outputId": "b3ea1834-3387-4d18-93ea-4d35225a41cb"
      },
      "execution_count": 37,
      "outputs": [
        {
          "output_type": "execute_result",
          "data": {
            "text/plain": [
              "array([1., 2., 3., 4., 5., 6., 7., 8., 9.])"
            ]
          },
          "metadata": {},
          "execution_count": 37
        }
      ]
    },
    {
      "cell_type": "code",
      "source": [
        "a = np.array([[1, 2], [3, 4]], float)\n",
        "b = np.array([[5, 6], [7, 8]], float)\n",
        "np.concatenate((a,b), axis=1) "
      ],
      "metadata": {
        "colab": {
          "base_uri": "https://localhost:8080/"
        },
        "id": "cYH2wz1dl0HS",
        "outputId": "289bd857-30bf-4fce-9fa8-0eed50e80d1d"
      },
      "execution_count": 41,
      "outputs": [
        {
          "output_type": "execute_result",
          "data": {
            "text/plain": [
              "array([[1., 2., 5., 6.],\n",
              "       [3., 4., 7., 8.]])"
            ]
          },
          "metadata": {},
          "execution_count": 41
        }
      ]
    },
    {
      "cell_type": "code",
      "source": [
        "a = np.array([1,2,3,4], float)\n",
        "a\n",
        "a[:,np.newaxis].shape"
      ],
      "metadata": {
        "colab": {
          "base_uri": "https://localhost:8080/"
        },
        "id": "dtrARVhBmRxc",
        "outputId": "7d41de79-f9e5-4774-9acd-0dc3edd3dee7"
      },
      "execution_count": 45,
      "outputs": [
        {
          "output_type": "execute_result",
          "data": {
            "text/plain": [
              "(3, 1)"
            ]
          },
          "metadata": {},
          "execution_count": 45
        }
      ]
    },
    {
      "cell_type": "code",
      "source": [
        "# Создание массива с равномерно распеделенными значениями и его возврат\n",
        "\n",
        "np.arange(5, dtype=float)\n",
        "np.arange(1, 6, 2, dtype=int)"
      ],
      "metadata": {
        "colab": {
          "base_uri": "https://localhost:8080/"
        },
        "id": "-MC4fktgmzrW",
        "outputId": "ddf33633-e15b-46ef-caf4-77640af9c4c3"
      },
      "execution_count": 47,
      "outputs": [
        {
          "output_type": "execute_result",
          "data": {
            "text/plain": [
              "array([1, 3, 5])"
            ]
          },
          "metadata": {},
          "execution_count": 47
        }
      ]
    },
    {
      "cell_type": "code",
      "source": [
        "# Создание массивов с установленной размерностью (будут заполнены этими же значениями)\n",
        "\n",
        "np.ones((2,3), dtype=float)\n",
        "np.zeros(6, dtype=int)\n",
        "\n",
        "np.ones_like(a)"
      ],
      "metadata": {
        "colab": {
          "base_uri": "https://localhost:8080/"
        },
        "id": "aQW-LBiSnJ4E",
        "outputId": "d41b83dd-512a-468f-942f-138b4664a98d"
      },
      "execution_count": 49,
      "outputs": [
        {
          "output_type": "execute_result",
          "data": {
            "text/plain": [
              "array([0, 0, 0, 0, 0, 0])"
            ]
          },
          "metadata": {},
          "execution_count": 49
        }
      ]
    },
    {
      "cell_type": "code",
      "source": [
        "# Создадим квадратичную матрицу с единичнымт элементами по диагонали \n",
        "\n",
        "np.identity(4, dtype=float)"
      ],
      "metadata": {
        "colab": {
          "base_uri": "https://localhost:8080/"
        },
        "id": "mCULi1X5nZPk",
        "outputId": "5e05231f-010f-4c83-de25-5bcfe8ec5700"
      },
      "execution_count": 50,
      "outputs": [
        {
          "output_type": "execute_result",
          "data": {
            "text/plain": [
              "array([[1., 0., 0., 0.],\n",
              "       [0., 1., 0., 0.],\n",
              "       [0., 0., 1., 0.],\n",
              "       [0., 0., 0., 1.]])"
            ]
          },
          "metadata": {},
          "execution_count": 50
        }
      ]
    },
    {
      "cell_type": "code",
      "source": [
        "np.eye(4, k=1, dtype=float) # Возможность установить k-ую диагональ"
      ],
      "metadata": {
        "colab": {
          "base_uri": "https://localhost:8080/"
        },
        "id": "f-8KpCpcnxIV",
        "outputId": "ab5eea6e-1d0d-4ba0-fdeb-f1396f488e33"
      },
      "execution_count": 51,
      "outputs": [
        {
          "output_type": "execute_result",
          "data": {
            "text/plain": [
              "array([[0., 1., 0., 0.],\n",
              "       [0., 0., 1., 0.],\n",
              "       [0., 0., 0., 1.],\n",
              "       [0., 0., 0., 0.]])"
            ]
          },
          "metadata": {},
          "execution_count": 51
        }
      ]
    },
    {
      "cell_type": "markdown",
      "source": [
        "**Математические операции над массивами**"
      ],
      "metadata": {
        "id": "j1lrEkttGAxC"
      }
    },
    {
      "cell_type": "code",
      "source": [
        "a = np.array([[1,2], [3,4], [5,6]], float)\n",
        "b = np.array([-2, 2], float)\n",
        "\n",
        "a + b "
      ],
      "metadata": {
        "colab": {
          "base_uri": "https://localhost:8080/"
        },
        "id": "Oi_e1PaNn4nA",
        "outputId": "49c6322c-cf13-4a64-c3fd-0405d4980f4e"
      },
      "execution_count": 60,
      "outputs": [
        {
          "output_type": "execute_result",
          "data": {
            "text/plain": [
              "array([[-1.,  4.],\n",
              "       [ 1.,  6.],\n",
              "       [ 3.,  8.]])"
            ]
          },
          "metadata": {},
          "execution_count": 60
        }
      ]
    },
    {
      "cell_type": "code",
      "source": [
        "a = np.zeros((2,2), float)\n",
        "b = np.array([-1,3.], float)\n",
        "a\n",
        "b\n",
        "\n",
        "a + b "
      ],
      "metadata": {
        "colab": {
          "base_uri": "https://localhost:8080/"
        },
        "id": "oN_n86EYoxHy",
        "outputId": "2969fc16-6170-4b7a-ab85-f89601811781"
      },
      "execution_count": 63,
      "outputs": [
        {
          "output_type": "execute_result",
          "data": {
            "text/plain": [
              "array([[-1.,  3.],\n",
              "       [-1.,  3.]])"
            ]
          },
          "metadata": {},
          "execution_count": 63
        }
      ]
    },
    {
      "cell_type": "code",
      "source": [
        "a + b[np.newaxis,:]"
      ],
      "metadata": {
        "colab": {
          "base_uri": "https://localhost:8080/"
        },
        "id": "0MioWYRnpsKx",
        "outputId": "95b315fa-db14-43fc-bb98-1a678c08553a"
      },
      "execution_count": 64,
      "outputs": [
        {
          "output_type": "execute_result",
          "data": {
            "text/plain": [
              "array([[-1.,  3.],\n",
              "       [-1.,  3.]])"
            ]
          },
          "metadata": {},
          "execution_count": 64
        }
      ]
    },
    {
      "cell_type": "code",
      "source": [
        "a + b[:,np.newaxis]"
      ],
      "metadata": {
        "colab": {
          "base_uri": "https://localhost:8080/"
        },
        "id": "jMOO8VA-p2oC",
        "outputId": "53213484-9062-4d7c-8481-a9232a7abbea"
      },
      "execution_count": 65,
      "outputs": [
        {
          "output_type": "execute_result",
          "data": {
            "text/plain": [
              "array([[-1., -1.],\n",
              "       [ 3.,  3.]])"
            ]
          },
          "metadata": {},
          "execution_count": 65
        }
      ]
    },
    {
      "cell_type": "code",
      "source": [
        "a = np.array([1,4,9], float)\n",
        "np.sqrt(a)"
      ],
      "metadata": {
        "colab": {
          "base_uri": "https://localhost:8080/"
        },
        "id": "GNcehUHep-Nk",
        "outputId": "35f74f25-4224-47de-f066-daafa8fcd5ed"
      },
      "execution_count": 66,
      "outputs": [
        {
          "output_type": "execute_result",
          "data": {
            "text/plain": [
              "array([1., 2., 3.])"
            ]
          },
          "metadata": {},
          "execution_count": 66
        }
      ]
    },
    {
      "cell_type": "code",
      "source": [
        "a = np.array([1.1, 1.5, 1.9], float)\n",
        "np.floor(a)"
      ],
      "metadata": {
        "colab": {
          "base_uri": "https://localhost:8080/"
        },
        "id": "jpUgfo6lqMhu",
        "outputId": "d5ed18eb-3847-4565-8c6a-c69353ab10c3"
      },
      "execution_count": 67,
      "outputs": [
        {
          "output_type": "execute_result",
          "data": {
            "text/plain": [
              "array([1., 1., 1.])"
            ]
          },
          "metadata": {},
          "execution_count": 67
        }
      ]
    },
    {
      "cell_type": "code",
      "source": [
        "np.ceil(a)"
      ],
      "metadata": {
        "colab": {
          "base_uri": "https://localhost:8080/"
        },
        "id": "NpU3Pu7vqWsk",
        "outputId": "68d60488-5e6e-4e00-f95e-df071e530b2f"
      },
      "execution_count": 68,
      "outputs": [
        {
          "output_type": "execute_result",
          "data": {
            "text/plain": [
              "array([2., 2., 2.])"
            ]
          },
          "metadata": {},
          "execution_count": 68
        }
      ]
    },
    {
      "cell_type": "code",
      "source": [
        "np.rint(a)"
      ],
      "metadata": {
        "colab": {
          "base_uri": "https://localhost:8080/"
        },
        "id": "jScTqoysqeQX",
        "outputId": "422551ec-e424-4995-daf1-9b043d2e1c15"
      },
      "execution_count": 69,
      "outputs": [
        {
          "output_type": "execute_result",
          "data": {
            "text/plain": [
              "array([1., 2., 2.])"
            ]
          },
          "metadata": {},
          "execution_count": 69
        }
      ]
    },
    {
      "cell_type": "code",
      "source": [
        "np.pi\n",
        "np.e"
      ],
      "metadata": {
        "colab": {
          "base_uri": "https://localhost:8080/"
        },
        "id": "QIojfYNpqlb1",
        "outputId": "a165589c-cdd6-4b19-ab99-ce99486bfab1"
      },
      "execution_count": 71,
      "outputs": [
        {
          "output_type": "execute_result",
          "data": {
            "text/plain": [
              "2.718281828459045"
            ]
          },
          "metadata": {},
          "execution_count": 71
        }
      ]
    },
    {
      "cell_type": "code",
      "source": [
        "a = np.array([1,4,5], int)\n",
        "for x in a:\n",
        "  print(x)"
      ],
      "metadata": {
        "colab": {
          "base_uri": "https://localhost:8080/"
        },
        "id": "LwM2xUtnqpIz",
        "outputId": "a56af4ab-daeb-41ab-997e-53ff0f66930c"
      },
      "execution_count": 73,
      "outputs": [
        {
          "output_type": "stream",
          "name": "stdout",
          "text": [
            "1\n",
            "4\n",
            "5\n"
          ]
        }
      ]
    },
    {
      "cell_type": "code",
      "source": [
        "a = np.array([[1,2],[3,4],[5,6]], float)\n",
        "for x in a:\n",
        "  print(x)"
      ],
      "metadata": {
        "colab": {
          "base_uri": "https://localhost:8080/"
        },
        "id": "5A1d3V-tq2oW",
        "outputId": "170d4663-3bc6-4743-b299-0ceb4e31118d"
      },
      "execution_count": 74,
      "outputs": [
        {
          "output_type": "stream",
          "name": "stdout",
          "text": [
            "[1. 2.]\n",
            "[3. 4.]\n",
            "[5. 6.]\n"
          ]
        }
      ]
    },
    {
      "cell_type": "code",
      "source": [
        "a = np.array([2,5,4], float)\n",
        "a.sum()\n",
        "a.prod()\n",
        "np.sum(a)\n",
        "np.prod(a)"
      ],
      "metadata": {
        "colab": {
          "base_uri": "https://localhost:8080/"
        },
        "id": "B_XZkDX4rHV9",
        "outputId": "6bb7ce13-4d4a-4168-87b3-9ac7e892187a"
      },
      "execution_count": 78,
      "outputs": [
        {
          "output_type": "execute_result",
          "data": {
            "text/plain": [
              "40.0"
            ]
          },
          "metadata": {},
          "execution_count": 78
        }
      ]
    },
    {
      "cell_type": "code",
      "source": [
        "a = np.array([2,5,4], float)\n",
        "a.mean()\n",
        "a.var()\n",
        "a.std()"
      ],
      "metadata": {
        "colab": {
          "base_uri": "https://localhost:8080/"
        },
        "id": "8Yoi_FZJrXuW",
        "outputId": "29058d8b-2612-4021-dcee-824ed771c5a4"
      },
      "execution_count": 81,
      "outputs": [
        {
          "output_type": "execute_result",
          "data": {
            "text/plain": [
              "1.247219128924647"
            ]
          },
          "metadata": {},
          "execution_count": 81
        }
      ]
    },
    {
      "cell_type": "code",
      "source": [
        "a = np.array([2,5,4], float)\n",
        "a.min()\n",
        "a.max()"
      ],
      "metadata": {
        "colab": {
          "base_uri": "https://localhost:8080/"
        },
        "id": "i0OobqyarxEU",
        "outputId": "d0b26516-435e-4533-8f12-2d34964950df"
      },
      "execution_count": 83,
      "outputs": [
        {
          "output_type": "execute_result",
          "data": {
            "text/plain": [
              "5.0"
            ]
          },
          "metadata": {},
          "execution_count": 83
        }
      ]
    },
    {
      "cell_type": "code",
      "source": [
        "a = np.array([5,2,4], float)\n",
        "a.argmin()\n",
        "a.argmax()"
      ],
      "metadata": {
        "colab": {
          "base_uri": "https://localhost:8080/"
        },
        "id": "YNeFKFLFr2RO",
        "outputId": "dd625835-b9b2-4c13-aa55-3eef30110535"
      },
      "execution_count": 87,
      "outputs": [
        {
          "output_type": "execute_result",
          "data": {
            "text/plain": [
              "0"
            ]
          },
          "metadata": {},
          "execution_count": 87
        }
      ]
    },
    {
      "cell_type": "code",
      "source": [
        "a = np.array([6, 2, 5, -1, 3], float)\n",
        "sorted(a)\n",
        "\n",
        "a.sort()\n",
        "a"
      ],
      "metadata": {
        "colab": {
          "base_uri": "https://localhost:8080/"
        },
        "id": "BG2piVBPsIrq",
        "outputId": "c4cd5ab7-c88b-4f6e-94a6-3cd784e8208e"
      },
      "execution_count": 90,
      "outputs": [
        {
          "output_type": "execute_result",
          "data": {
            "text/plain": [
              "array([-1.,  2.,  3.,  5.,  6.])"
            ]
          },
          "metadata": {},
          "execution_count": 90
        }
      ]
    },
    {
      "cell_type": "code",
      "source": [
        "a = np.array([6, 2, 5, -1, 3], float)\n",
        "a.clip(1,5)"
      ],
      "metadata": {
        "colab": {
          "base_uri": "https://localhost:8080/"
        },
        "id": "h1JJ0QXXsce_",
        "outputId": "d9f321dd-e6f0-4c03-b09b-bbbd578b34d4"
      },
      "execution_count": 91,
      "outputs": [
        {
          "output_type": "execute_result",
          "data": {
            "text/plain": [
              "array([5., 2., 5., 1., 3.])"
            ]
          },
          "metadata": {},
          "execution_count": 91
        }
      ]
    },
    {
      "cell_type": "code",
      "source": [
        "np.unique(a)"
      ],
      "metadata": {
        "id": "pZ-YkBA9soI0"
      },
      "execution_count": null,
      "outputs": []
    },
    {
      "cell_type": "code",
      "source": [
        "a = np.array([[1,2], [3,4]], float)\n",
        "a.diagonal()"
      ],
      "metadata": {
        "colab": {
          "base_uri": "https://localhost:8080/"
        },
        "id": "DdUUiU9as2zi",
        "outputId": "5f0a1d0c-4e73-4243-9238-502f9e9934e5"
      },
      "execution_count": 93,
      "outputs": [
        {
          "output_type": "execute_result",
          "data": {
            "text/plain": [
              "array([1., 4.])"
            ]
          },
          "metadata": {},
          "execution_count": 93
        }
      ]
    },
    {
      "cell_type": "code",
      "source": [
        "a = np.array([1,3,0], float)\n",
        "b = np.array([0,4,2], float)\n",
        "a > b \n",
        "a == b \n",
        "a <= b "
      ],
      "metadata": {
        "colab": {
          "base_uri": "https://localhost:8080/"
        },
        "id": "Naew9392tBga",
        "outputId": "5811f3f0-4a04-4896-d4e9-ceb7d7c46818"
      },
      "execution_count": 97,
      "outputs": [
        {
          "output_type": "execute_result",
          "data": {
            "text/plain": [
              "array([False,  True,  True])"
            ]
          },
          "metadata": {},
          "execution_count": 97
        }
      ]
    },
    {
      "cell_type": "code",
      "source": [
        "c = a > b \n",
        "c"
      ],
      "metadata": {
        "colab": {
          "base_uri": "https://localhost:8080/"
        },
        "id": "MMY-BhG0tYvr",
        "outputId": "efbfc3bf-5fbb-4053-a0c6-3cd74fb55aec"
      },
      "execution_count": 98,
      "outputs": [
        {
          "output_type": "execute_result",
          "data": {
            "text/plain": [
              "array([ True, False, False])"
            ]
          },
          "metadata": {},
          "execution_count": 98
        }
      ]
    },
    {
      "cell_type": "code",
      "source": [
        "a = np.array([1,3,0], float)\n",
        "a > 5"
      ],
      "metadata": {
        "colab": {
          "base_uri": "https://localhost:8080/"
        },
        "id": "FPK9Ifdstc0G",
        "outputId": "632a737a-2deb-4434-ebd8-77dc99c3bb44"
      },
      "execution_count": 99,
      "outputs": [
        {
          "output_type": "execute_result",
          "data": {
            "text/plain": [
              "array([False, False, False])"
            ]
          },
          "metadata": {},
          "execution_count": 99
        }
      ]
    },
    {
      "cell_type": "code",
      "source": [
        "c = np.array([True, False, False], bool)\n",
        "any(c)\n",
        "all(c)"
      ],
      "metadata": {
        "colab": {
          "base_uri": "https://localhost:8080/"
        },
        "id": "cX4W5_JxthBM",
        "outputId": "c7f44a9b-5fe0-4fda-a2d0-eea07dff716a"
      },
      "execution_count": 101,
      "outputs": [
        {
          "output_type": "execute_result",
          "data": {
            "text/plain": [
              "False"
            ]
          },
          "metadata": {},
          "execution_count": 101
        }
      ]
    },
    {
      "cell_type": "code",
      "source": [
        "a = np.array([1, 3, 0], float)\n",
        "np.logical_and(a>0, a<3)\n",
        "\n",
        "# np.logical_not(b)\n",
        "# np.logical_or(b, c) "
      ],
      "metadata": {
        "colab": {
          "base_uri": "https://localhost:8080/"
        },
        "id": "awilQuvQt1Sb",
        "outputId": "f3fdefed-a04b-4e96-d3d5-395da4787105"
      },
      "execution_count": 102,
      "outputs": [
        {
          "output_type": "execute_result",
          "data": {
            "text/plain": [
              "array([ True, False, False])"
            ]
          },
          "metadata": {},
          "execution_count": 102
        }
      ]
    },
    {
      "cell_type": "code",
      "source": [
        "a = np.array([1,3,5], float)\n",
        "np.where(a != 0, 1 / a, a)"
      ],
      "metadata": {
        "colab": {
          "base_uri": "https://localhost:8080/"
        },
        "id": "k4IC_JFmubMF",
        "outputId": "7fb7604e-9d64-4f70-bee2-9f7bbcd643e5"
      },
      "execution_count": 103,
      "outputs": [
        {
          "output_type": "execute_result",
          "data": {
            "text/plain": [
              "array([1.        , 0.33333333, 0.2       ])"
            ]
          },
          "metadata": {},
          "execution_count": 103
        }
      ]
    },
    {
      "cell_type": "code",
      "source": [
        "a = np.array([[0,1], [3,0]], float) \n",
        "a.nonzero()"
      ],
      "metadata": {
        "colab": {
          "base_uri": "https://localhost:8080/"
        },
        "id": "8GW7VHTfu_qv",
        "outputId": "3f7625ae-3dab-4704-b8a0-eecf21c83d1a"
      },
      "execution_count": 104,
      "outputs": [
        {
          "output_type": "execute_result",
          "data": {
            "text/plain": [
              "(array([0, 1]), array([1, 0]))"
            ]
          },
          "metadata": {},
          "execution_count": 104
        }
      ]
    },
    {
      "cell_type": "code",
      "source": [
        "a = np.array([[6,4], [5, 9]], float)\n",
        "a >=6 "
      ],
      "metadata": {
        "colab": {
          "base_uri": "https://localhost:8080/"
        },
        "id": "ynceGH8avtlO",
        "outputId": "a6d0ae3e-f004-48fc-a6e9-e0af29022b9e"
      },
      "execution_count": 106,
      "outputs": [
        {
          "output_type": "execute_result",
          "data": {
            "text/plain": [
              "array([[ True, False],\n",
              "       [False,  True]])"
            ]
          },
          "metadata": {},
          "execution_count": 106
        }
      ]
    },
    {
      "cell_type": "code",
      "source": [
        "a = np.array([[6,4], [5, 9]], float)\n",
        "sel = (a>=6)\n",
        "a[sel]"
      ],
      "metadata": {
        "colab": {
          "base_uri": "https://localhost:8080/"
        },
        "id": "BU2jD_PlwDis",
        "outputId": "02a3fbec-0d25-4540-d576-20c8b1bf635c"
      },
      "execution_count": 107,
      "outputs": [
        {
          "output_type": "execute_result",
          "data": {
            "text/plain": [
              "array([6., 9.])"
            ]
          },
          "metadata": {},
          "execution_count": 107
        }
      ]
    },
    {
      "cell_type": "code",
      "source": [
        "a[np.logical_and(a > 5, a < 9)]"
      ],
      "metadata": {
        "colab": {
          "base_uri": "https://localhost:8080/"
        },
        "id": "-PvrZyG9wUBV",
        "outputId": "43c7e971-e6c3-4488-aed5-09220174ecfc"
      },
      "execution_count": 108,
      "outputs": [
        {
          "output_type": "execute_result",
          "data": {
            "text/plain": [
              "array([6.])"
            ]
          },
          "metadata": {},
          "execution_count": 108
        }
      ]
    },
    {
      "cell_type": "code",
      "source": [
        "a = np.array([2, 4, 6, 8], float)\n",
        "b = np.array([0, 0, 1, 2, 2, 1], int)\n",
        "a[b]"
      ],
      "metadata": {
        "colab": {
          "base_uri": "https://localhost:8080/"
        },
        "id": "0mQV8qv1weTS",
        "outputId": "36566600-bc52-4ab0-c4bb-8e4f26b565ba"
      },
      "execution_count": 109,
      "outputs": [
        {
          "output_type": "execute_result",
          "data": {
            "text/plain": [
              "array([2., 2., 4., 6., 6., 4.])"
            ]
          },
          "metadata": {},
          "execution_count": 109
        }
      ]
    },
    {
      "cell_type": "code",
      "source": [
        "a = np.array([2, 4, 6, 8], float)\n",
        "a[[0, 0, 1, 2, 2, 1]]"
      ],
      "metadata": {
        "colab": {
          "base_uri": "https://localhost:8080/"
        },
        "id": "gqCFpbNdw8yI",
        "outputId": "59f06996-115e-4309-e76c-6475a20fedf7"
      },
      "execution_count": 110,
      "outputs": [
        {
          "output_type": "execute_result",
          "data": {
            "text/plain": [
              "array([2., 2., 4., 6., 6., 4.])"
            ]
          },
          "metadata": {},
          "execution_count": 110
        }
      ]
    },
    {
      "cell_type": "code",
      "source": [
        "a = np.array([[1,4], [9, 16]], float)\n",
        "b = np.array([0, 0, 1, 1, 0], int)\n",
        "c = np.array([0, 1, 1, 1, 1], int)\n",
        "a[b,c]"
      ],
      "metadata": {
        "colab": {
          "base_uri": "https://localhost:8080/"
        },
        "id": "IS_vJ2HgxLzr",
        "outputId": "0627b1de-602a-4e92-9599-851a46b73c6d"
      },
      "execution_count": 113,
      "outputs": [
        {
          "output_type": "execute_result",
          "data": {
            "text/plain": [
              "array([ 1.,  4., 16., 16.,  4.])"
            ]
          },
          "metadata": {},
          "execution_count": 113
        }
      ]
    },
    {
      "cell_type": "code",
      "source": [
        "a = np.array([2, 4, 6, 8], float)\n",
        "b = np.array([0,0, 1, 3, 2, 1], int)\n",
        "a.take(b)"
      ],
      "metadata": {
        "colab": {
          "base_uri": "https://localhost:8080/"
        },
        "id": "EsNqqcCqx7Ih",
        "outputId": "599032de-62e4-4125-8b53-abdb55913812"
      },
      "execution_count": 114,
      "outputs": [
        {
          "output_type": "execute_result",
          "data": {
            "text/plain": [
              "array([2., 2., 4., 8., 6., 4.])"
            ]
          },
          "metadata": {},
          "execution_count": 114
        }
      ]
    },
    {
      "cell_type": "markdown",
      "source": [
        "**Операции линейной алгебры над векторами и матрицами**\n",
        "\n",
        "Кстати, для усложненных операций используется модуль np.linalg, благодаря которому, например, можно решать системы уравнений или выполнять разложение."
      ],
      "metadata": {
        "id": "2HgHvRY-HVZ4"
      }
    },
    {
      "cell_type": "code",
      "source": [
        "# Возвращаем скалярное произведение векторов\n",
        "\n",
        "a = np.array([1, 2, 3], float)\n",
        "b = np.array([0, 1, 1], float)\n",
        "np.dot(a, b)"
      ],
      "metadata": {
        "id": "BBY47-seyVBO"
      },
      "execution_count": null,
      "outputs": []
    },
    {
      "cell_type": "code",
      "source": [
        "# Перемножение матрицы на матрицу \n",
        "\n",
        "a = np.array([[0, 1], [2, 3]], float)\n",
        "b = np.array([2, 3], float)\n",
        "c = np.array([[1, 1], [4, 0]], float)\n",
        "\n",
        "np.dot(b, a)"
      ],
      "metadata": {
        "id": "l7C76KDV3UHG"
      },
      "execution_count": null,
      "outputs": []
    },
    {
      "cell_type": "code",
      "source": [
        "np.dot(a, b)"
      ],
      "metadata": {
        "id": "1tlgQ0cHJDJA"
      },
      "execution_count": null,
      "outputs": []
    },
    {
      "cell_type": "code",
      "source": [
        "np.dot(c, a)"
      ],
      "metadata": {
        "id": "LJqnaI6KJDO7"
      },
      "execution_count": null,
      "outputs": []
    },
    {
      "cell_type": "code",
      "source": [
        "# Скалярное, тензорное и внешнее произведение матриц и векторов\n",
        "\n",
        "a = np.array([1, 4, 0], float)\n",
        "b = np.array([2, 2, 1], float)\n",
        "\n",
        "np.outer(a, b)"
      ],
      "metadata": {
        "id": "jrbzexEx3uN6"
      },
      "execution_count": null,
      "outputs": []
    },
    {
      "cell_type": "code",
      "source": [
        "np.inner(a, b)"
      ],
      "metadata": {
        "id": "5fa-JYyzJxut"
      },
      "execution_count": null,
      "outputs": []
    },
    {
      "cell_type": "code",
      "source": [
        "np.cross(a, b)"
      ],
      "metadata": {
        "id": "pF8Eg2S_JyF4"
      },
      "execution_count": null,
      "outputs": []
    },
    {
      "cell_type": "code",
      "source": [
        "# Нахождение определителя матрицы \n",
        "\n",
        "a = np.array([[4, 2, 0], [9, 3, 7], [1, 2, 1]], float)\n",
        "np.linalg.det(a) "
      ],
      "metadata": {
        "id": "eFlUT62J3v9d"
      },
      "execution_count": null,
      "outputs": []
    },
    {
      "cell_type": "code",
      "source": [
        "# Нахождение собственных векторов и собственных значений матрицы\n",
        "\n",
        "vals, vecs = np.linalg.eig(a)\n",
        "\n",
        "vals"
      ],
      "metadata": {
        "id": "9Jz8Aa1l3x8N"
      },
      "execution_count": null,
      "outputs": []
    },
    {
      "cell_type": "code",
      "source": [
        "vecs"
      ],
      "metadata": {
        "id": "F_xfVT_TMeGE"
      },
      "execution_count": null,
      "outputs": []
    },
    {
      "cell_type": "code",
      "source": [
        "# Нахождеение невырожденной матрицы \n",
        "\n",
        "b = np.linalg.inv(a)\n",
        "np.dot(a, b)"
      ],
      "metadata": {
        "id": "U7LoQk6E3z2F"
      },
      "execution_count": null,
      "outputs": []
    },
    {
      "cell_type": "code",
      "source": [
        "# Одиночное разложение\n",
        "\n",
        "a = np.array([[1, 3,4], [5, 2, 3]], float)\n",
        "U, s, Vh = np.linalg.svd(a)\n",
        "\n",
        "U"
      ],
      "metadata": {
        "id": "0aNuXcHe31mb"
      },
      "execution_count": null,
      "outputs": []
    },
    {
      "cell_type": "code",
      "source": [
        "s"
      ],
      "metadata": {
        "id": "4nZqydNDM8sc"
      },
      "execution_count": null,
      "outputs": []
    },
    {
      "cell_type": "code",
      "source": [
        "Vh"
      ],
      "metadata": {
        "id": "hUdf8wY9M86w"
      },
      "execution_count": null,
      "outputs": []
    }
  ]
}