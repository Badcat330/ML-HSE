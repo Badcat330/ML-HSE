{
  "nbformat": 4,
  "nbformat_minor": 0,
  "metadata": {
    "colab": {
      "provenance": []
    },
    "kernelspec": {
      "name": "python3",
      "display_name": "Python 3"
    },
    "language_info": {
      "name": "python"
    }
  },
  "cells": [
    {
      "cell_type": "markdown",
      "source": [
        "# Первое домашнее задание. \n",
        "Мягкий дедлайн: 3 мая, жесткий дедлайн: 10 мая. \n",
        "\n",
        "Максимальное количество баллов - 30. "
      ],
      "metadata": {
        "id": "uJKfiLSyexN0"
      }
    },
    {
      "cell_type": "markdown",
      "source": [
        "**Задание 1** (10 баллов) \n",
        "\n",
        "Рассмотрите две выборки: https://archive.ics.uci.edu/ml/datasets/Shill+Bidding+Dataset и https://archive.ics.uci.edu/ml/datasets/Speaker+Accent+Recognition. Для обоих выборок постройте AdaBoost, GradientBoosting, RandomForest, Bagging. Сравните качество на обоих выборках. Отличается ли результат? Почему? "
      ],
      "metadata": {
        "id": "5qOmhvfOVlG-"
      }
    },
    {
      "cell_type": "code",
      "source": [],
      "metadata": {
        "id": "XF6U3_rDVmJa"
      },
      "execution_count": null,
      "outputs": []
    },
    {
      "cell_type": "markdown",
      "source": [
        "**Задание 2** (5 баллов) \n",
        "\n",
        "Получите оценку параметров нормального распределения из принципа максимума правдоподобия.\n"
      ],
      "metadata": {
        "id": "ad3cKziyVmcJ"
      }
    },
    {
      "cell_type": "code",
      "source": [],
      "metadata": {
        "id": "Xdzhsl_sVmjJ"
      },
      "execution_count": null,
      "outputs": []
    },
    {
      "cell_type": "markdown",
      "source": [
        "**Задание 3** (15 баллов) \n",
        "\n",
        "Постройте рекомендательную систему фильмов на датасете [Movie Lens](http://grouplens.org/datasets/movielens/). В качестве данных обучения можно использовать файлы с расширением base, а тестирование качества провести на файле test: пары файлов u1.base и u1.test, ..., u5.base и u5.test. Каждая пара -- это разбиение 80%/20%  данных для всех пользователей $u$ на обучащие и тестовые данные. \n",
        "\n",
        "Реализуйте вычисление ошибок MAE и RMSE, и постройте графики зависимости MAE и RMSE от числа соседей (диапазон от 1 до 100 с разумным шагом). \n",
        "Вопросы:\n",
        "1. Как изменяется величина MAE (RMSE) от числа выдаваемых рекомендаций (top-n): $n \\in \\{1,3,5,10,15,20,30,40,50,100\\}$? \n",
        "2. Как Вы считаете, какие фильмы чаще рекомендуются -- популярные с высокими оценками или редкие (те, которые редко оцениваются) с высокими оценками?\n",
        "3. Что делать, если соседей (то есть похожих на целевого пользователя или конкретный товар) мало? Нужно/можно ли как-то учитывать достоверность таких рекомендаций? \n",
        "\n",
        "Ниже некоторый вспомогательный код для работы с датасетом, который можно использовать в той или иной мере, а можно вообще убрать и написать по-своему. "
      ],
      "metadata": {
        "id": "KPXv_gXXc3xC"
      }
    },
    {
      "cell_type": "code",
      "source": [
        "def loadMovieLens(path = 'data/'): # Или, работая в google colab, сделайте по аналогии с семинарами / прошлыми домашними заданиями ввод данных \n",
        "\n",
        "# Получить названия фильмов\n",
        "    movies = {}\n",
        "    for line in open(path+'/u.item'):\n",
        "        (id,title) = line.split('|')[0:2]\n",
        "        movies[id] = title\n",
        "\n",
        "# Загрузить данные\n",
        "    prefs={}\n",
        "    for line in open(path+'/u.data'):\n",
        "        (user,movieid,rating,ts)=line.split('\\t')\n",
        "        prefs.setdefault(user,{})\n",
        "        prefs[user][movies[movieid]]=float(rating)\n",
        "    return prefs"
      ],
      "metadata": {
        "id": "VoMMiPk8VmxD"
      },
      "execution_count": null,
      "outputs": []
    },
    {
      "cell_type": "code",
      "source": [
        "prefs=loadMovieLens( )\n",
        "prefs['87']"
      ],
      "metadata": {
        "id": "eOfnMtEscmmy"
      },
      "execution_count": null,
      "outputs": []
    },
    {
      "cell_type": "code",
      "source": [
        "len(prefs['87'])"
      ],
      "metadata": {
        "id": "Naq53LpscogH"
      },
      "execution_count": null,
      "outputs": []
    },
    {
      "cell_type": "code",
      "source": [
        "getRecommendations(prefs,'87')[0:30]"
      ],
      "metadata": {
        "id": "h1QSPM0RcqjK"
      },
      "execution_count": null,
      "outputs": []
    },
    {
      "cell_type": "code",
      "source": [
        "itemsim=calculateSimilarItems(prefs,n=50)"
      ],
      "metadata": {
        "id": "AAb7l6-Wcr18"
      },
      "execution_count": null,
      "outputs": []
    },
    {
      "cell_type": "code",
      "source": [
        "itemsim[\"What's Eating Gilbert Grape (1993)\"]"
      ],
      "metadata": {
        "id": "qoQlteiYcvD1"
      },
      "execution_count": null,
      "outputs": []
    },
    {
      "cell_type": "code",
      "source": [
        "getRecommendedItems(prefs,itemsim,'87')[0:30]"
      ],
      "metadata": {
        "id": "Od0697Kgcw3C"
      },
      "execution_count": null,
      "outputs": []
    }
  ]
}