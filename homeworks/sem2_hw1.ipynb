{
  "cells": [
    {
      "cell_type": "markdown",
      "metadata": {
        "id": "uJKfiLSyexN0"
      },
      "source": [
        "# Первое домашнее задание. \n",
        "Мягкий дедлайн: 3 мая, жесткий дедлайн: 10 мая. \n",
        "\n",
        "Максимальное количество баллов - 30. "
      ]
    },
    {
      "cell_type": "markdown",
      "metadata": {
        "id": "5qOmhvfOVlG-"
      },
      "source": [
        "**Задание 1** (10 баллов) \n",
        "\n",
        "Рассмотрите две выборки: https://archive.ics.uci.edu/ml/datasets/Shill+Bidding+Dataset и https://archive.ics.uci.edu/ml/datasets/Speaker+Accent+Recognition. Для обоих выборок постройте AdaBoost, GradientBoosting, RandomForest, Bagging. Сравните качество на обоих выборках. Отличается ли результат? Почему? "
      ]
    },
    {
      "cell_type": "code",
      "execution_count": 1,
      "metadata": {},
      "outputs": [],
      "source": [
        "import numpy as np\n",
        "import pandas as pd"
      ]
    },
    {
      "cell_type": "code",
      "execution_count": 20,
      "metadata": {
        "id": "XF6U3_rDVmJa"
      },
      "outputs": [
        {
          "data": {
            "text/html": [
              "<div>\n",
              "<style scoped>\n",
              "    .dataframe tbody tr th:only-of-type {\n",
              "        vertical-align: middle;\n",
              "    }\n",
              "\n",
              "    .dataframe tbody tr th {\n",
              "        vertical-align: top;\n",
              "    }\n",
              "\n",
              "    .dataframe thead th {\n",
              "        text-align: right;\n",
              "    }\n",
              "</style>\n",
              "<table border=\"1\" class=\"dataframe\">\n",
              "  <thead>\n",
              "    <tr style=\"text-align: right;\">\n",
              "      <th></th>\n",
              "      <th>Bidder_Tendency</th>\n",
              "      <th>Bidding_Ratio</th>\n",
              "      <th>Successive_Outbidding</th>\n",
              "      <th>Last_Bidding</th>\n",
              "      <th>Auction_Bids</th>\n",
              "      <th>Starting_Price_Average</th>\n",
              "      <th>Early_Bidding</th>\n",
              "      <th>Winning_Ratio</th>\n",
              "      <th>Auction_Duration</th>\n",
              "      <th>Class</th>\n",
              "    </tr>\n",
              "  </thead>\n",
              "  <tbody>\n",
              "    <tr>\n",
              "      <th>6316</th>\n",
              "      <td>0.333333</td>\n",
              "      <td>0.160000</td>\n",
              "      <td>1.0</td>\n",
              "      <td>0.738557</td>\n",
              "      <td>0.280000</td>\n",
              "      <td>0.993593</td>\n",
              "      <td>0.686358</td>\n",
              "      <td>0.888889</td>\n",
              "      <td>3</td>\n",
              "      <td>1</td>\n",
              "    </tr>\n",
              "    <tr>\n",
              "      <th>6317</th>\n",
              "      <td>0.030612</td>\n",
              "      <td>0.130435</td>\n",
              "      <td>0.0</td>\n",
              "      <td>0.005754</td>\n",
              "      <td>0.217391</td>\n",
              "      <td>0.993593</td>\n",
              "      <td>0.000010</td>\n",
              "      <td>0.878788</td>\n",
              "      <td>7</td>\n",
              "      <td>0</td>\n",
              "    </tr>\n",
              "    <tr>\n",
              "      <th>6318</th>\n",
              "      <td>0.055556</td>\n",
              "      <td>0.043478</td>\n",
              "      <td>0.0</td>\n",
              "      <td>0.015663</td>\n",
              "      <td>0.217391</td>\n",
              "      <td>0.993593</td>\n",
              "      <td>0.015663</td>\n",
              "      <td>0.000000</td>\n",
              "      <td>7</td>\n",
              "      <td>0</td>\n",
              "    </tr>\n",
              "    <tr>\n",
              "      <th>6319</th>\n",
              "      <td>0.076923</td>\n",
              "      <td>0.086957</td>\n",
              "      <td>0.0</td>\n",
              "      <td>0.068694</td>\n",
              "      <td>0.217391</td>\n",
              "      <td>0.993593</td>\n",
              "      <td>0.000415</td>\n",
              "      <td>0.000000</td>\n",
              "      <td>7</td>\n",
              "      <td>0</td>\n",
              "    </tr>\n",
              "    <tr>\n",
              "      <th>6320</th>\n",
              "      <td>0.016393</td>\n",
              "      <td>0.043478</td>\n",
              "      <td>0.0</td>\n",
              "      <td>0.340351</td>\n",
              "      <td>0.217391</td>\n",
              "      <td>0.993593</td>\n",
              "      <td>0.340351</td>\n",
              "      <td>0.000000</td>\n",
              "      <td>7</td>\n",
              "      <td>0</td>\n",
              "    </tr>\n",
              "  </tbody>\n",
              "</table>\n",
              "</div>"
            ],
            "text/plain": [
              "      Bidder_Tendency  Bidding_Ratio  Successive_Outbidding  Last_Bidding   \n",
              "6316         0.333333       0.160000                    1.0      0.738557  \\\n",
              "6317         0.030612       0.130435                    0.0      0.005754   \n",
              "6318         0.055556       0.043478                    0.0      0.015663   \n",
              "6319         0.076923       0.086957                    0.0      0.068694   \n",
              "6320         0.016393       0.043478                    0.0      0.340351   \n",
              "\n",
              "      Auction_Bids  Starting_Price_Average  Early_Bidding  Winning_Ratio   \n",
              "6316      0.280000                0.993593       0.686358       0.888889  \\\n",
              "6317      0.217391                0.993593       0.000010       0.878788   \n",
              "6318      0.217391                0.993593       0.015663       0.000000   \n",
              "6319      0.217391                0.993593       0.000415       0.000000   \n",
              "6320      0.217391                0.993593       0.340351       0.000000   \n",
              "\n",
              "      Auction_Duration  Class  \n",
              "6316                 3      1  \n",
              "6317                 7      0  \n",
              "6318                 7      0  \n",
              "6319                 7      0  \n",
              "6320                 7      0  "
            ]
          },
          "execution_count": 20,
          "metadata": {},
          "output_type": "execute_result"
        }
      ],
      "source": [
        "shill_data = pd.read_csv('../datasets/shill_bidding_dataset.csv', sep=',')\n",
        "shill_data.drop(['Record_ID', 'Auction_ID', 'Bidder_ID'], axis=1, inplace=True)\n",
        "shill_data.tail()"
      ]
    },
    {
      "cell_type": "code",
      "execution_count": 21,
      "metadata": {},
      "outputs": [
        {
          "data": {
            "text/html": [
              "<div>\n",
              "<style scoped>\n",
              "    .dataframe tbody tr th:only-of-type {\n",
              "        vertical-align: middle;\n",
              "    }\n",
              "\n",
              "    .dataframe tbody tr th {\n",
              "        vertical-align: top;\n",
              "    }\n",
              "\n",
              "    .dataframe thead th {\n",
              "        text-align: right;\n",
              "    }\n",
              "</style>\n",
              "<table border=\"1\" class=\"dataframe\">\n",
              "  <thead>\n",
              "    <tr style=\"text-align: right;\">\n",
              "      <th></th>\n",
              "      <th>count</th>\n",
              "      <th>mean</th>\n",
              "      <th>std</th>\n",
              "      <th>min</th>\n",
              "      <th>25%</th>\n",
              "      <th>50%</th>\n",
              "      <th>75%</th>\n",
              "      <th>max</th>\n",
              "    </tr>\n",
              "  </thead>\n",
              "  <tbody>\n",
              "    <tr>\n",
              "      <th>Bidder_Tendency</th>\n",
              "      <td>6321.0</td>\n",
              "      <td>0.142541</td>\n",
              "      <td>0.197084</td>\n",
              "      <td>0.000000</td>\n",
              "      <td>0.027027</td>\n",
              "      <td>0.062500</td>\n",
              "      <td>0.166667</td>\n",
              "      <td>1.000000</td>\n",
              "    </tr>\n",
              "    <tr>\n",
              "      <th>Bidding_Ratio</th>\n",
              "      <td>6321.0</td>\n",
              "      <td>0.127670</td>\n",
              "      <td>0.131530</td>\n",
              "      <td>0.011765</td>\n",
              "      <td>0.043478</td>\n",
              "      <td>0.083333</td>\n",
              "      <td>0.166667</td>\n",
              "      <td>1.000000</td>\n",
              "    </tr>\n",
              "    <tr>\n",
              "      <th>Successive_Outbidding</th>\n",
              "      <td>6321.0</td>\n",
              "      <td>0.103781</td>\n",
              "      <td>0.279698</td>\n",
              "      <td>0.000000</td>\n",
              "      <td>0.000000</td>\n",
              "      <td>0.000000</td>\n",
              "      <td>0.000000</td>\n",
              "      <td>1.000000</td>\n",
              "    </tr>\n",
              "    <tr>\n",
              "      <th>Last_Bidding</th>\n",
              "      <td>6321.0</td>\n",
              "      <td>0.463119</td>\n",
              "      <td>0.380097</td>\n",
              "      <td>0.000000</td>\n",
              "      <td>0.047928</td>\n",
              "      <td>0.440937</td>\n",
              "      <td>0.860363</td>\n",
              "      <td>0.999900</td>\n",
              "    </tr>\n",
              "    <tr>\n",
              "      <th>Auction_Bids</th>\n",
              "      <td>6321.0</td>\n",
              "      <td>0.231606</td>\n",
              "      <td>0.255252</td>\n",
              "      <td>0.000000</td>\n",
              "      <td>0.000000</td>\n",
              "      <td>0.142857</td>\n",
              "      <td>0.454545</td>\n",
              "      <td>0.788235</td>\n",
              "    </tr>\n",
              "    <tr>\n",
              "      <th>Starting_Price_Average</th>\n",
              "      <td>6321.0</td>\n",
              "      <td>0.472821</td>\n",
              "      <td>0.489912</td>\n",
              "      <td>0.000000</td>\n",
              "      <td>0.000000</td>\n",
              "      <td>0.000000</td>\n",
              "      <td>0.993593</td>\n",
              "      <td>0.999935</td>\n",
              "    </tr>\n",
              "    <tr>\n",
              "      <th>Early_Bidding</th>\n",
              "      <td>6321.0</td>\n",
              "      <td>0.430683</td>\n",
              "      <td>0.380785</td>\n",
              "      <td>0.000000</td>\n",
              "      <td>0.026620</td>\n",
              "      <td>0.360104</td>\n",
              "      <td>0.826761</td>\n",
              "      <td>0.999900</td>\n",
              "    </tr>\n",
              "    <tr>\n",
              "      <th>Winning_Ratio</th>\n",
              "      <td>6321.0</td>\n",
              "      <td>0.367731</td>\n",
              "      <td>0.436573</td>\n",
              "      <td>0.000000</td>\n",
              "      <td>0.000000</td>\n",
              "      <td>0.000000</td>\n",
              "      <td>0.851852</td>\n",
              "      <td>1.000000</td>\n",
              "    </tr>\n",
              "    <tr>\n",
              "      <th>Auction_Duration</th>\n",
              "      <td>6321.0</td>\n",
              "      <td>4.615093</td>\n",
              "      <td>2.466629</td>\n",
              "      <td>1.000000</td>\n",
              "      <td>3.000000</td>\n",
              "      <td>5.000000</td>\n",
              "      <td>7.000000</td>\n",
              "      <td>10.000000</td>\n",
              "    </tr>\n",
              "    <tr>\n",
              "      <th>Class</th>\n",
              "      <td>6321.0</td>\n",
              "      <td>0.106787</td>\n",
              "      <td>0.308867</td>\n",
              "      <td>0.000000</td>\n",
              "      <td>0.000000</td>\n",
              "      <td>0.000000</td>\n",
              "      <td>0.000000</td>\n",
              "      <td>1.000000</td>\n",
              "    </tr>\n",
              "  </tbody>\n",
              "</table>\n",
              "</div>"
            ],
            "text/plain": [
              "                         count      mean       std       min       25%   \n",
              "Bidder_Tendency         6321.0  0.142541  0.197084  0.000000  0.027027  \\\n",
              "Bidding_Ratio           6321.0  0.127670  0.131530  0.011765  0.043478   \n",
              "Successive_Outbidding   6321.0  0.103781  0.279698  0.000000  0.000000   \n",
              "Last_Bidding            6321.0  0.463119  0.380097  0.000000  0.047928   \n",
              "Auction_Bids            6321.0  0.231606  0.255252  0.000000  0.000000   \n",
              "Starting_Price_Average  6321.0  0.472821  0.489912  0.000000  0.000000   \n",
              "Early_Bidding           6321.0  0.430683  0.380785  0.000000  0.026620   \n",
              "Winning_Ratio           6321.0  0.367731  0.436573  0.000000  0.000000   \n",
              "Auction_Duration        6321.0  4.615093  2.466629  1.000000  3.000000   \n",
              "Class                   6321.0  0.106787  0.308867  0.000000  0.000000   \n",
              "\n",
              "                             50%       75%        max  \n",
              "Bidder_Tendency         0.062500  0.166667   1.000000  \n",
              "Bidding_Ratio           0.083333  0.166667   1.000000  \n",
              "Successive_Outbidding   0.000000  0.000000   1.000000  \n",
              "Last_Bidding            0.440937  0.860363   0.999900  \n",
              "Auction_Bids            0.142857  0.454545   0.788235  \n",
              "Starting_Price_Average  0.000000  0.993593   0.999935  \n",
              "Early_Bidding           0.360104  0.826761   0.999900  \n",
              "Winning_Ratio           0.000000  0.851852   1.000000  \n",
              "Auction_Duration        5.000000  7.000000  10.000000  \n",
              "Class                   0.000000  0.000000   1.000000  "
            ]
          },
          "execution_count": 21,
          "metadata": {},
          "output_type": "execute_result"
        }
      ],
      "source": [
        "shill_data.describe(include='all').T"
      ]
    },
    {
      "cell_type": "code",
      "execution_count": 22,
      "metadata": {},
      "outputs": [
        {
          "data": {
            "text/plain": [
              "Class\n",
              "0    5646\n",
              "1     675\n",
              "Name: count, dtype: int64"
            ]
          },
          "execution_count": 22,
          "metadata": {},
          "output_type": "execute_result"
        }
      ],
      "source": [
        "shill_data['Class'].value_counts()"
      ]
    },
    {
      "cell_type": "code",
      "execution_count": 25,
      "metadata": {},
      "outputs": [],
      "source": [
        "from sklearn.model_selection import train_test_split\n",
        "X = shill_data.drop(['Class'], axis=1)\n",
        "y = shill_data['Class']\n",
        "\n",
        "X_train, X_test, y_train, y_test = train_test_split(X, y, test_size=0.2, random_state=42, stratify=y)\n"
      ]
    },
    {
      "cell_type": "code",
      "execution_count": 35,
      "metadata": {},
      "outputs": [
        {
          "data": {
            "text/plain": [
              "0.9936758893280633"
            ]
          },
          "execution_count": 35,
          "metadata": {},
          "output_type": "execute_result"
        }
      ],
      "source": [
        "from sklearn.ensemble import AdaBoostClassifier\n",
        "clf = AdaBoostClassifier(random_state=42)\n",
        "clf.fit(X_train, y_train)\n",
        "clf.score(X_test, y_test)"
      ]
    },
    {
      "cell_type": "code",
      "execution_count": 36,
      "metadata": {},
      "outputs": [
        {
          "data": {
            "text/plain": [
              "0.9960474308300395"
            ]
          },
          "execution_count": 36,
          "metadata": {},
          "output_type": "execute_result"
        }
      ],
      "source": [
        "from sklearn.ensemble import GradientBoostingClassifier\n",
        "clf = GradientBoostingClassifier(random_state=42)\n",
        "clf.fit(X_train, y_train)\n",
        "clf.score(X_test, y_test)"
      ]
    },
    {
      "cell_type": "code",
      "execution_count": 37,
      "metadata": {},
      "outputs": [
        {
          "data": {
            "text/plain": [
              "0.9944664031620554"
            ]
          },
          "execution_count": 37,
          "metadata": {},
          "output_type": "execute_result"
        }
      ],
      "source": [
        "from sklearn.ensemble import RandomForestClassifier\n",
        "clf = RandomForestClassifier(random_state=42)\n",
        "clf.fit(X_train, y_train)\n",
        "clf.score(X_test, y_test)"
      ]
    },
    {
      "cell_type": "code",
      "execution_count": 43,
      "metadata": {},
      "outputs": [
        {
          "data": {
            "text/plain": [
              "0.9960474308300395"
            ]
          },
          "execution_count": 43,
          "metadata": {},
          "output_type": "execute_result"
        }
      ],
      "source": [
        "from sklearn.ensemble import BaggingClassifier\n",
        "clf = BaggingClassifier(random_state=42)\n",
        "clf.fit(X_train, y_train)\n",
        "clf.score(X_test, y_test)"
      ]
    },
    {
      "cell_type": "code",
      "execution_count": 111,
      "metadata": {},
      "outputs": [
        {
          "data": {
            "text/html": [
              "<div>\n",
              "<style scoped>\n",
              "    .dataframe tbody tr th:only-of-type {\n",
              "        vertical-align: middle;\n",
              "    }\n",
              "\n",
              "    .dataframe tbody tr th {\n",
              "        vertical-align: top;\n",
              "    }\n",
              "\n",
              "    .dataframe thead th {\n",
              "        text-align: right;\n",
              "    }\n",
              "</style>\n",
              "<table border=\"1\" class=\"dataframe\">\n",
              "  <thead>\n",
              "    <tr style=\"text-align: right;\">\n",
              "      <th></th>\n",
              "      <th>X1</th>\n",
              "      <th>X2</th>\n",
              "      <th>X3</th>\n",
              "      <th>X4</th>\n",
              "      <th>X5</th>\n",
              "      <th>X6</th>\n",
              "      <th>X7</th>\n",
              "      <th>X8</th>\n",
              "      <th>X9</th>\n",
              "      <th>X10</th>\n",
              "      <th>X11</th>\n",
              "      <th>X12</th>\n",
              "    </tr>\n",
              "  </thead>\n",
              "  <tbody>\n",
              "    <tr>\n",
              "      <th>324</th>\n",
              "      <td>-0.525273</td>\n",
              "      <td>-3.868338</td>\n",
              "      <td>3.548304</td>\n",
              "      <td>1.496249</td>\n",
              "      <td>3.490753</td>\n",
              "      <td>5.849887</td>\n",
              "      <td>-7.747027</td>\n",
              "      <td>9.738836</td>\n",
              "      <td>-11.754543</td>\n",
              "      <td>7.129909</td>\n",
              "      <td>0.209947</td>\n",
              "      <td>-1.946914</td>\n",
              "    </tr>\n",
              "    <tr>\n",
              "      <th>325</th>\n",
              "      <td>-2.094001</td>\n",
              "      <td>-1.073113</td>\n",
              "      <td>1.217397</td>\n",
              "      <td>-0.550790</td>\n",
              "      <td>2.666547</td>\n",
              "      <td>7.449942</td>\n",
              "      <td>-6.418064</td>\n",
              "      <td>10.907098</td>\n",
              "      <td>-11.134323</td>\n",
              "      <td>6.728373</td>\n",
              "      <td>2.461446</td>\n",
              "      <td>-0.026113</td>\n",
              "    </tr>\n",
              "    <tr>\n",
              "      <th>326</th>\n",
              "      <td>2.116909</td>\n",
              "      <td>-4.441482</td>\n",
              "      <td>5.350392</td>\n",
              "      <td>3.675396</td>\n",
              "      <td>2.715876</td>\n",
              "      <td>3.682670</td>\n",
              "      <td>-4.500850</td>\n",
              "      <td>11.798565</td>\n",
              "      <td>-12.031005</td>\n",
              "      <td>7.566142</td>\n",
              "      <td>-0.606010</td>\n",
              "      <td>-2.245129</td>\n",
              "    </tr>\n",
              "    <tr>\n",
              "      <th>327</th>\n",
              "      <td>0.299616</td>\n",
              "      <td>0.324844</td>\n",
              "      <td>3.299919</td>\n",
              "      <td>2.044040</td>\n",
              "      <td>3.634828</td>\n",
              "      <td>6.693840</td>\n",
              "      <td>-5.676224</td>\n",
              "      <td>12.000518</td>\n",
              "      <td>-11.912901</td>\n",
              "      <td>4.664406</td>\n",
              "      <td>1.197789</td>\n",
              "      <td>-2.230275</td>\n",
              "    </tr>\n",
              "    <tr>\n",
              "      <th>328</th>\n",
              "      <td>3.214254</td>\n",
              "      <td>-3.135152</td>\n",
              "      <td>1.122691</td>\n",
              "      <td>4.712444</td>\n",
              "      <td>5.926518</td>\n",
              "      <td>6.915566</td>\n",
              "      <td>-5.799727</td>\n",
              "      <td>10.858532</td>\n",
              "      <td>-11.659845</td>\n",
              "      <td>10.605734</td>\n",
              "      <td>0.349482</td>\n",
              "      <td>-5.983281</td>\n",
              "    </tr>\n",
              "  </tbody>\n",
              "</table>\n",
              "</div>"
            ],
            "text/plain": [
              "           X1        X2        X3        X4        X5        X6        X7   \n",
              "324 -0.525273 -3.868338  3.548304  1.496249  3.490753  5.849887 -7.747027  \\\n",
              "325 -2.094001 -1.073113  1.217397 -0.550790  2.666547  7.449942 -6.418064   \n",
              "326  2.116909 -4.441482  5.350392  3.675396  2.715876  3.682670 -4.500850   \n",
              "327  0.299616  0.324844  3.299919  2.044040  3.634828  6.693840 -5.676224   \n",
              "328  3.214254 -3.135152  1.122691  4.712444  5.926518  6.915566 -5.799727   \n",
              "\n",
              "            X8         X9        X10       X11       X12  \n",
              "324   9.738836 -11.754543   7.129909  0.209947 -1.946914  \n",
              "325  10.907098 -11.134323   6.728373  2.461446 -0.026113  \n",
              "326  11.798565 -12.031005   7.566142 -0.606010 -2.245129  \n",
              "327  12.000518 -11.912901   4.664406  1.197789 -2.230275  \n",
              "328  10.858532 -11.659845  10.605734  0.349482 -5.983281  "
            ]
          },
          "execution_count": 111,
          "metadata": {},
          "output_type": "execute_result"
        }
      ],
      "source": [
        "accent_data = pd.read_csv('../datasets/accent_mfcc_data_1.csv', sep=',')\n",
        "accent_data.tail()"
      ]
    },
    {
      "cell_type": "code",
      "execution_count": 112,
      "metadata": {},
      "outputs": [
        {
          "data": {
            "text/html": [
              "<div>\n",
              "<style scoped>\n",
              "    .dataframe tbody tr th:only-of-type {\n",
              "        vertical-align: middle;\n",
              "    }\n",
              "\n",
              "    .dataframe tbody tr th {\n",
              "        vertical-align: top;\n",
              "    }\n",
              "\n",
              "    .dataframe thead th {\n",
              "        text-align: right;\n",
              "    }\n",
              "</style>\n",
              "<table border=\"1\" class=\"dataframe\">\n",
              "  <thead>\n",
              "    <tr style=\"text-align: right;\">\n",
              "      <th></th>\n",
              "      <th>count</th>\n",
              "      <th>mean</th>\n",
              "      <th>std</th>\n",
              "      <th>min</th>\n",
              "      <th>25%</th>\n",
              "      <th>50%</th>\n",
              "      <th>75%</th>\n",
              "      <th>max</th>\n",
              "    </tr>\n",
              "  </thead>\n",
              "  <tbody>\n",
              "    <tr>\n",
              "      <th>X1</th>\n",
              "      <td>329.0</td>\n",
              "      <td>5.645227</td>\n",
              "      <td>5.105302</td>\n",
              "      <td>-6.067831</td>\n",
              "      <td>2.065603</td>\n",
              "      <td>4.954206</td>\n",
              "      <td>9.793648</td>\n",
              "      <td>17.749851</td>\n",
              "    </tr>\n",
              "    <tr>\n",
              "      <th>X2</th>\n",
              "      <td>329.0</td>\n",
              "      <td>-4.270814</td>\n",
              "      <td>3.514350</td>\n",
              "      <td>-14.972962</td>\n",
              "      <td>-6.515764</td>\n",
              "      <td>-4.252512</td>\n",
              "      <td>-1.560250</td>\n",
              "      <td>3.570765</td>\n",
              "    </tr>\n",
              "    <tr>\n",
              "      <th>X3</th>\n",
              "      <td>329.0</td>\n",
              "      <td>2.635319</td>\n",
              "      <td>3.635323</td>\n",
              "      <td>-6.186583</td>\n",
              "      <td>0.137042</td>\n",
              "      <td>2.029268</td>\n",
              "      <td>4.178026</td>\n",
              "      <td>17.066487</td>\n",
              "    </tr>\n",
              "    <tr>\n",
              "      <th>X4</th>\n",
              "      <td>329.0</td>\n",
              "      <td>7.200207</td>\n",
              "      <td>4.310095</td>\n",
              "      <td>-8.844231</td>\n",
              "      <td>4.700874</td>\n",
              "      <td>7.804680</td>\n",
              "      <td>10.129165</td>\n",
              "      <td>16.178942</td>\n",
              "    </tr>\n",
              "    <tr>\n",
              "      <th>X5</th>\n",
              "      <td>329.0</td>\n",
              "      <td>-5.648733</td>\n",
              "      <td>4.596180</td>\n",
              "      <td>-15.656596</td>\n",
              "      <td>-8.417684</td>\n",
              "      <td>-6.786670</td>\n",
              "      <td>-4.463308</td>\n",
              "      <td>7.912809</td>\n",
              "    </tr>\n",
              "    <tr>\n",
              "      <th>X6</th>\n",
              "      <td>329.0</td>\n",
              "      <td>9.810236</td>\n",
              "      <td>3.624654</td>\n",
              "      <td>-3.528964</td>\n",
              "      <td>8.643563</td>\n",
              "      <td>10.379330</td>\n",
              "      <td>11.784360</td>\n",
              "      <td>21.445837</td>\n",
              "    </tr>\n",
              "    <tr>\n",
              "      <th>X7</th>\n",
              "      <td>329.0</td>\n",
              "      <td>-9.408053</td>\n",
              "      <td>2.484117</td>\n",
              "      <td>-15.365665</td>\n",
              "      <td>-11.120860</td>\n",
              "      <td>-9.710399</td>\n",
              "      <td>-7.989370</td>\n",
              "      <td>-0.424033</td>\n",
              "    </tr>\n",
              "    <tr>\n",
              "      <th>X8</th>\n",
              "      <td>329.0</td>\n",
              "      <td>5.117328</td>\n",
              "      <td>2.650608</td>\n",
              "      <td>-2.873862</td>\n",
              "      <td>3.482167</td>\n",
              "      <td>4.843103</td>\n",
              "      <td>6.588931</td>\n",
              "      <td>13.846083</td>\n",
              "    </tr>\n",
              "    <tr>\n",
              "      <th>X9</th>\n",
              "      <td>329.0</td>\n",
              "      <td>-1.229432</td>\n",
              "      <td>3.634849</td>\n",
              "      <td>-15.510974</td>\n",
              "      <td>-1.749082</td>\n",
              "      <td>-0.389970</td>\n",
              "      <td>0.779993</td>\n",
              "      <td>4.789989</td>\n",
              "    </tr>\n",
              "    <tr>\n",
              "      <th>X10</th>\n",
              "      <td>329.0</td>\n",
              "      <td>-2.362288</td>\n",
              "      <td>5.042034</td>\n",
              "      <td>-11.429178</td>\n",
              "      <td>-5.083522</td>\n",
              "      <td>-3.323147</td>\n",
              "      <td>-1.506037</td>\n",
              "      <td>16.326455</td>\n",
              "    </tr>\n",
              "    <tr>\n",
              "      <th>X11</th>\n",
              "      <td>329.0</td>\n",
              "      <td>2.430833</td>\n",
              "      <td>3.478467</td>\n",
              "      <td>-13.664104</td>\n",
              "      <td>1.197789</td>\n",
              "      <td>3.169703</td>\n",
              "      <td>4.673452</td>\n",
              "      <td>9.166066</td>\n",
              "    </tr>\n",
              "    <tr>\n",
              "      <th>X12</th>\n",
              "      <td>329.0</td>\n",
              "      <td>-3.980415</td>\n",
              "      <td>2.985879</td>\n",
              "      <td>-13.724103</td>\n",
              "      <td>-5.941409</td>\n",
              "      <td>-4.374334</td>\n",
              "      <td>-2.191658</td>\n",
              "      <td>5.259430</td>\n",
              "    </tr>\n",
              "  </tbody>\n",
              "</table>\n",
              "</div>"
            ],
            "text/plain": [
              "     count      mean       std        min        25%        50%        75%   \n",
              "X1   329.0  5.645227  5.105302  -6.067831   2.065603   4.954206   9.793648  \\\n",
              "X2   329.0 -4.270814  3.514350 -14.972962  -6.515764  -4.252512  -1.560250   \n",
              "X3   329.0  2.635319  3.635323  -6.186583   0.137042   2.029268   4.178026   \n",
              "X4   329.0  7.200207  4.310095  -8.844231   4.700874   7.804680  10.129165   \n",
              "X5   329.0 -5.648733  4.596180 -15.656596  -8.417684  -6.786670  -4.463308   \n",
              "X6   329.0  9.810236  3.624654  -3.528964   8.643563  10.379330  11.784360   \n",
              "X7   329.0 -9.408053  2.484117 -15.365665 -11.120860  -9.710399  -7.989370   \n",
              "X8   329.0  5.117328  2.650608  -2.873862   3.482167   4.843103   6.588931   \n",
              "X9   329.0 -1.229432  3.634849 -15.510974  -1.749082  -0.389970   0.779993   \n",
              "X10  329.0 -2.362288  5.042034 -11.429178  -5.083522  -3.323147  -1.506037   \n",
              "X11  329.0  2.430833  3.478467 -13.664104   1.197789   3.169703   4.673452   \n",
              "X12  329.0 -3.980415  2.985879 -13.724103  -5.941409  -4.374334  -2.191658   \n",
              "\n",
              "           max  \n",
              "X1   17.749851  \n",
              "X2    3.570765  \n",
              "X3   17.066487  \n",
              "X4   16.178942  \n",
              "X5    7.912809  \n",
              "X6   21.445837  \n",
              "X7   -0.424033  \n",
              "X8   13.846083  \n",
              "X9    4.789989  \n",
              "X10  16.326455  \n",
              "X11   9.166066  \n",
              "X12   5.259430  "
            ]
          },
          "execution_count": 112,
          "metadata": {},
          "output_type": "execute_result"
        }
      ],
      "source": [
        "accent_data.drop('language', axis=1).describe(include='all').T"
      ]
    },
    {
      "cell_type": "code",
      "execution_count": 113,
      "metadata": {},
      "outputs": [
        {
          "data": {
            "text/plain": [
              "count     329\n",
              "unique      6\n",
              "top        US\n",
              "freq      165\n",
              "Name: language, dtype: object"
            ]
          },
          "execution_count": 113,
          "metadata": {},
          "output_type": "execute_result"
        }
      ],
      "source": [
        "accent_data['language'].describe(include='all').T"
      ]
    },
    {
      "cell_type": "code",
      "execution_count": 53,
      "metadata": {},
      "outputs": [],
      "source": [
        "from sklearn.model_selection import train_test_split\n",
        "X = accent_data.drop(['language'], axis=1)\n",
        "y = accent_data['language']\n",
        "\n",
        "X_train, X_test, y_train, y_test = train_test_split(X, y, test_size=0.2, random_state=42, stratify=y)"
      ]
    },
    {
      "cell_type": "code",
      "execution_count": 83,
      "metadata": {},
      "outputs": [
        {
          "data": {
            "text/plain": [
              "0.7272727272727273"
            ]
          },
          "execution_count": 83,
          "metadata": {},
          "output_type": "execute_result"
        }
      ],
      "source": [
        "from sklearn.ensemble import AdaBoostClassifier\n",
        "from sklearn.tree import DecisionTreeClassifier\n",
        "\n",
        "clf = AdaBoostClassifier(estimator=DecisionTreeClassifier(max_depth=11), random_state=42)\n",
        "clf.fit(X_train, y_train)\n",
        "clf.score(X_test, y_test)"
      ]
    },
    {
      "cell_type": "code",
      "execution_count": 55,
      "metadata": {},
      "outputs": [
        {
          "data": {
            "text/plain": [
              "0.7121212121212122"
            ]
          },
          "execution_count": 55,
          "metadata": {},
          "output_type": "execute_result"
        }
      ],
      "source": [
        "from sklearn.ensemble import GradientBoostingClassifier\n",
        "clf = GradientBoostingClassifier(random_state=42)\n",
        "clf.fit(X_train, y_train)\n",
        "clf.score(X_test, y_test)"
      ]
    },
    {
      "cell_type": "code",
      "execution_count": 104,
      "metadata": {},
      "outputs": [
        {
          "data": {
            "text/plain": [
              "0.8484848484848485"
            ]
          },
          "execution_count": 104,
          "metadata": {},
          "output_type": "execute_result"
        }
      ],
      "source": [
        "from sklearn.ensemble import RandomForestClassifier\n",
        "clf = RandomForestClassifier(random_state=42, max_depth=12)\n",
        "clf.fit(X_train, y_train)\n",
        "clf.score(X_test, y_test)"
      ]
    },
    {
      "cell_type": "code",
      "execution_count": 109,
      "metadata": {},
      "outputs": [
        {
          "data": {
            "text/plain": [
              "0.8333333333333334"
            ]
          },
          "execution_count": 109,
          "metadata": {},
          "output_type": "execute_result"
        }
      ],
      "source": [
        "from sklearn.ensemble import BaggingClassifier\n",
        "clf = BaggingClassifier(random_state=42, n_estimators=35)\n",
        "clf.fit(X_train, y_train)\n",
        "clf.score(X_test, y_test)"
      ]
    },
    {
      "cell_type": "markdown",
      "metadata": {
        "id": "ad3cKziyVmcJ"
      },
      "source": [
        "**Задание 2** (5 баллов) \n",
        "\n",
        "Получите оценку параметров нормального распределения из принципа максимума правдоподобия.\n"
      ]
    },
    {
      "attachments": {},
      "cell_type": "markdown",
      "metadata": {
        "id": "Xdzhsl_sVmjJ"
      },
      "source": [
        "Пусть у нас есть нормальное распределение $N(x)=\\frac{1}{\\sigma \\sqrt{2 \\pi}}e^{-\\frac{(x-\\mu)^2}{2 \\sigma^2}}$ и $x_1, x_2, \\dots, x_n$ наша выборка данных. Также предположим, что данные пораждены одим распределением и независимы. Тогда мы можем считать, что $P(x_1, \\dots, x_n \\mid {\\mu, \\sigma}) = P(x_1 \\mid \\{\\mu, \\sigma\\}) \\cdot P(x_1 \\mid {\\mu, \\sigma})$. Обозначим $\\theta = \\{\\mu, \\sigma\\}$ \n",
        "\n",
        "$\\hat{\\theta}_{MLE}= \\argmax_{\\theta} \\prod\\limits^n_i P(x_i \\mid \\theta)$ Для того чтобы найти эту точку нам надо найти производную, но чтобы упростить нам расчеты прологорефмируем наше выражение. Заметим, что $argmax_x(P(x)) == argmax_x ln(P(x))$.\n",
        "\n",
        "$$\\frac{\\partial}{\\partial \\theta}ln(\\prod\\limits^n_i P(x_i \\mid \\theta)) = \\sum\\limits_i^n\\frac{\\partial}{\\partial \\theta} ln(P(x_i \\mid \\theta)) = 0$$\n",
        "\n",
        "Перейдем к нотации с использованием градиента. $\\sum\\limits^n_i \\nabla_{\\mu, \\sigma} ln(P(x_i \\mid \\mu, \\sigma))$\n",
        "Сначала возьмем градиент по $\\mu$. \n",
        "$$\\sum\\limits^n_i \\nabla_{\\mu} ln(\\frac{1}{\\sigma \\sqrt{2 \\pi}}e^{-\\frac{(x-\\mu)^2}{2 \\sigma^2}}) = 0$$\n",
        "Преобразуем выражение воспользовашись свойствами логарифма.\n",
        "$$\\sum\\limits^n_i \\nabla_{\\mu} ln(\\frac{1}{\\sigma \\sqrt{2 \\pi}}e^{-\\frac{(x-\\mu)^2}{2 \\sigma^2}}) = \\sum\\limits^n_i \\nabla_{\\mu} - \\frac{1}{2}ln(2\\pi \\sigma^2) - \\frac{(x-\\mu)^2}{2 \\sigma^2} = -\\frac{1}{2\\sigma^2}\\sum\\limits^n_i \\nabla_{\\mu} (x_i - \\mu)^2 =$$\n",
        "$$= -\\frac{1}{2\\sigma^2}\\sum\\limits_i^n - 2(x_i - \\mu) = \\frac{1}{\\sigma^2} \\sum\\limits_i^n (x_i - \\mu) = 0$$\n",
        "Получаем, что $\\hat{\\mu}_{MLE}=\\frac{1}{n}\\sum\\limits^n_i x_i$. Заметим, что оптимальное значение $\\mu$ не зависит от значение $\\sigma$, поэтому следующим шагом можем вычеслить оптимум $\\sigma$.\n",
        "$$\\sum\\limits^n_i \\nabla_{\\sigma} ln(\\frac{1}{\\sigma \\sqrt{2 \\pi}}e^{-\\frac{(x-\\mu)^2}{2 \\sigma^2}}) = \\sum\\limits^n_i \\nabla_{\\mu} - \\frac{1}{2}ln(2\\pi \\sigma^2) - \\frac{(x-\\mu)^2}{2 \\sigma^2} =$$\n",
        "$$= -\\frac{n}{2}\\nabla_\\sigma ln(\\sigma^2) - \\frac{1}{2}\\nabla_sigma \\frac{1}{\\sigma^2}\\sum\\limits^n_i(x_i -\\mu)^2 = -\\frac{n}{\\sigma} + \\frac{1}{\\sigma^3}\\sum\\limits^n_i(x_i -\\mu)^2 = 0$$\n",
        "Получаем что $\\hat{\\sigma}_{MLE} = \\sqrt{\\frac{1}{n}\\sum\\limits^n_i (x_i - \\mu)^2}$\n"
      ]
    },
    {
      "cell_type": "markdown",
      "metadata": {
        "id": "KPXv_gXXc3xC"
      },
      "source": [
        "**Задание 3** (15 баллов) \n",
        "\n",
        "Постройте рекомендательную систему фильмов на датасете [Movie Lens](http://grouplens.org/datasets/movielens/). В качестве данных обучения можно использовать файлы с расширением base, а тестирование качества провести на файле test: пары файлов u1.base и u1.test, ..., u5.base и u5.test. Каждая пара -- это разбиение 80%/20%  данных для всех пользователей $u$ на обучащие и тестовые данные. \n",
        "\n",
        "Реализуйте вычисление ошибок MAE и RMSE, и постройте графики зависимости MAE и RMSE от числа соседей (диапазон от 1 до 100 с разумным шагом). \n",
        "Вопросы:\n",
        "1. Как изменяется величина MAE (RMSE) от числа выдаваемых рекомендаций (top-n): $n \\in \\{1,3,5,10,15,20,30,40,50,100\\}$? \n",
        "2. Как Вы считаете, какие фильмы чаще рекомендуются -- популярные с высокими оценками или редкие (те, которые редко оцениваются) с высокими оценками?\n",
        "3. Что делать, если соседей (то есть похожих на целевого пользователя или конкретный товар) мало? Нужно/можно ли как-то учитывать достоверность таких рекомендаций? \n",
        "\n",
        "Ниже некоторый вспомогательный код для работы с датасетом, который можно использовать в той или иной мере, а можно вообще убрать и написать по-своему. "
      ]
    },
    {
      "cell_type": "code",
      "execution_count": null,
      "metadata": {
        "id": "VoMMiPk8VmxD"
      },
      "outputs": [],
      "source": [
        "def loadMovieLens(path = 'data/'): # Или, работая в google colab, сделайте по аналогии с семинарами / прошлыми домашними заданиями ввод данных \n",
        "\n",
        "# Получить названия фильмов\n",
        "    movies = {}\n",
        "    for line in open(path+'/u.item'):\n",
        "        (id,title) = line.split('|')[0:2]\n",
        "        movies[id] = title\n",
        "\n",
        "# Загрузить данные\n",
        "    prefs={}\n",
        "    for line in open(path+'/u.data'):\n",
        "        (user,movieid,rating,ts)=line.split('\\t')\n",
        "        prefs.setdefault(user,{})\n",
        "        prefs[user][movies[movieid]]=float(rating)\n",
        "    return prefs"
      ]
    },
    {
      "cell_type": "code",
      "execution_count": null,
      "metadata": {
        "id": "eOfnMtEscmmy"
      },
      "outputs": [],
      "source": [
        "prefs=loadMovieLens( )\n",
        "prefs['87']"
      ]
    },
    {
      "cell_type": "code",
      "execution_count": null,
      "metadata": {
        "id": "Naq53LpscogH"
      },
      "outputs": [],
      "source": [
        "len(prefs['87'])"
      ]
    },
    {
      "cell_type": "code",
      "execution_count": null,
      "metadata": {
        "id": "h1QSPM0RcqjK"
      },
      "outputs": [],
      "source": [
        "getRecommendations(prefs,'87')[0:30]"
      ]
    },
    {
      "cell_type": "code",
      "execution_count": null,
      "metadata": {
        "id": "AAb7l6-Wcr18"
      },
      "outputs": [],
      "source": [
        "itemsim=calculateSimilarItems(prefs,n=50)"
      ]
    },
    {
      "cell_type": "code",
      "execution_count": null,
      "metadata": {
        "id": "qoQlteiYcvD1"
      },
      "outputs": [],
      "source": [
        "itemsim[\"What's Eating Gilbert Grape (1993)\"]"
      ]
    },
    {
      "cell_type": "code",
      "execution_count": null,
      "metadata": {
        "id": "Od0697Kgcw3C"
      },
      "outputs": [],
      "source": [
        "getRecommendedItems(prefs,itemsim,'87')[0:30]"
      ]
    }
  ],
  "metadata": {
    "colab": {
      "provenance": []
    },
    "kernelspec": {
      "display_name": "Python 3",
      "name": "python3"
    },
    "language_info": {
      "codemirror_mode": {
        "name": "ipython",
        "version": 3
      },
      "file_extension": ".py",
      "mimetype": "text/x-python",
      "name": "python",
      "nbconvert_exporter": "python",
      "pygments_lexer": "ipython3",
      "version": "3.9.12"
    }
  },
  "nbformat": 4,
  "nbformat_minor": 0
}
